{
 "cells": [
  {
   "cell_type": "markdown",
   "metadata": {},
   "source": [
    "# Project of COMP7015\n",
    "\n",
    "Welcome to the Project of COMP7015! \n",
    "\n",
    "This project consists of two parts, i.e., Part 1: Simple Classification with Neural Network & Part 2: Adversarial Examples for Neural Networks. Through trying this project, you are expected to have a brief understanding on the image classification and the special vulnerability of Neural Networks induced by adversarial examples."
   ]
  },
  {
   "cell_type": "markdown",
   "metadata": {},
   "source": [
    "## Part 1: Simple Classification with Neural Network\n",
    "\n",
    "In this part, you will implement a simple neural network to classify grayscale images of handwritten digits (0 - 9) from the MNIST dataset (in the attachment, i.e., ```images_train.npy/images_test.npy/labels_train.npy/labels_test.npy```). The dataset contains 60,000 training images and 10,000 testing images of handwritten digits. Each image is 28×28 pixels in size, and is generally represented as a flat vector of 784 numbers. It also includes labels for each example, a number indicating the actual digit (0 - 9) handwritten in that image. "
   ]
  },
  {
   "cell_type": "code",
   "execution_count": 1,
   "metadata": {},
   "outputs": [],
   "source": [
    "import random\n",
    "import numpy as np\n",
    "import matplotlib.pyplot as plt"
   ]
  },
  {
   "cell_type": "markdown",
   "metadata": {},
   "source": [
    "(a) **[5 points]** Please realize an util function: <em>one_hot_labels</em>.\n",
    "\n",
    "In the implementation of the cross entropy loss, it is much convenient if numerical labels are transformed into one-hot labels. For example, numerical label 5 -> one-hot label [0,0,0,0,0,1,0,0,0,0]. Accordingly, the cross entropy loss can be written as follow:\n",
    "\n",
    "$CE(y,\\hat y)=-\\sum_{k=1}^K y_k \\log \\hat y_k$,\n",
    "\n",
    "where $\\hat y$ is the softmax outputs from the model for the training example, $y$ is the one-hot (ground-truth) label, and the subscript refers to the element of $y$ at the coordinate $k$. "
   ]
  },
  {
   "cell_type": "code",
   "execution_count": 2,
   "metadata": {},
   "outputs": [],
   "source": [
    "def one_hot_labels(labels):\n",
    "    one_hot_labels = np.zeros((labels.size, 10))\n",
    "    ### YOUR CODE HERE\n",
    "    rows = np.arange(0, labels.size)\n",
    "    one_hot_labels[rows, labels] = 1.\n",
    "    ### END YOUR CODE\n",
    "    return one_hot_labels"
   ]
  },
  {
   "cell_type": "markdown",
   "metadata": {},
   "source": [
    "To begin with, MNIST dataset is loaded from the following files:\n",
    "\n",
    "    images_train.npy: 60k images with normalized features, the dimension of image features is 784.\n",
    "    images_test.npy\n",
    "    labels_train.npy: corresponding numerical labels (0-9).\n",
    "    labels_test.npy\n",
    "    \n",
    "Note that, the original training images and labels are separated into a set of 50k data for training and 10k data for validation. "
   ]
  },
  {
   "cell_type": "code",
   "execution_count": 3,
   "metadata": {},
   "outputs": [],
   "source": [
    "def readData(images_file, labels_file):\n",
    "    x = np.load(images_file)\n",
    "    y = np.load(labels_file)\n",
    "    return x, y\n",
    "\n",
    "def prepare_data():\n",
    "    \n",
    "    trainData, trainLabels = readData('images_train.npy', 'labels_train.npy')\n",
    "    trainLabels = one_hot_labels(trainLabels)\n",
    "    p = np.random.permutation(60000)\n",
    "    trainData = trainData[p,:]\n",
    "    trainLabels = trainLabels[p,:]\n",
    "\n",
    "    valData = trainData[0:10000,:]\n",
    "    valLabels = trainLabels[0:10000,:]\n",
    "    trainData = trainData[10000:,:]\n",
    "    trainLabels = trainLabels[10000:,:]\n",
    "\n",
    "\n",
    "    testData, testLabels = readData('images_test.npy', 'labels_test.npy')\n",
    "    testLabels = one_hot_labels(testLabels)\n",
    "\n",
    "    return trainData, trainLabels, valData, valLabels, testData, testLabels\n",
    "\n",
    "# load data for train, validation, and test. \n",
    "trainData, trainLabels, devData, devLabels, testData, testLabels = prepare_data()"
   ]
  },
  {
   "cell_type": "markdown",
   "metadata": {},
   "source": [
    "(b) **[5 points]** Please realize the softmax function as well as the sigmoid function: <em>softmax(x)</em> and <em>sigmoid(x)</em>.\n",
    "\n",
    "The $k$-th element of softmax is calculated via:\n",
    "\n",
    "$softmax(x)_k=\\frac {e^{x_k}}{\\sum_j e^{x_j}}=\\frac {e^{x_k+c}}{\\sum_j e^{x_j+c}}$\n",
    "\n",
    "The last equation holds since adding a constant won't change softmax results. Note that, you may encounter an overflow when softmax computes the exponential, so please using the 'max' tricks to avoid this problem.  \n",
    "\n",
    "The sigmoid is calculated by:\n",
    "\n",
    "$sigmoid(x)=\\frac {1}{1+e^{-x}} = \\frac {e^x}{e^x + 1}$\n",
    "\n",
    "For numerical stability, please use the 1st equation for positive inputs, and the 2nd equation for negative inputs. "
   ]
  },
  {
   "cell_type": "code",
   "execution_count": 4,
   "metadata": {},
   "outputs": [],
   "source": [
    "def softmax(x):\n",
    "    \"\"\"\n",
    "    x is of shape: batch_size * #class\n",
    "    \"\"\"\n",
    "    ### YOUR CODE HERE\n",
    "    maxRows = np.max(x, axis=-1, keepdims=True)\n",
    "    stableX = np.exp(x - maxRows)\n",
    "    s = stableX / np.sum(stableX, axis=-1, keepdims=True)\n",
    "    ### END YOUR CODE\n",
    "    return s\n",
    "\n",
    "def sigmoid(x):\n",
    "    \"\"\"\n",
    "    x is of shape: batch_size * dim_hidden\n",
    "    \"\"\"\n",
    "     ### YOUR CODE HERE\n",
    "    posMask = np.array((x >= 0.), dtype=np.float32)\n",
    "    negMask = np.array((x < 0.), dtype=np.float32)\n",
    "    positive = 1. / (1. + np.exp(- x * posMask)) * posMask\n",
    "    negative = np.exp(x * negMask) / (1 + np.exp(x * negMask)) * negMask\n",
    "    s = positive + negative\n",
    "    ### END YOUR CODE\n",
    "    return s\n"
   ]
  },
  {
   "cell_type": "markdown",
   "metadata": {},
   "source": [
    "(c) **[10 points]** Please complete the forward propagation: <em> forward_prop(data, labels, params)</em>, based on the following descriptions\n",
    "\n",
    "It is time to realize the forward propagation for a 2-layer neural network. Here, sigmoid is used as the activation function, and the softmax is used as the link function. Formally,\n",
    "\n",
    "hidden layer: $h=sigmoid(z_1)=sigmoid(x W_1+b_1)$\n",
    "\n",
    "output layer: $\\hat y = softmax(z_2) = softmax(h W_2 + b_2)$\n",
    "\n",
    "loss: $L = CE(y,\\hat y)$\n",
    "\n",
    "Therein, $z_1, z_2$ are the outputs (before activation function) from the hidden layer and output layer; $W_1, b_1, W_2$, and $b_2$ are the learnable parameters. Concretely, $W_1$ and $b_1$ denote the weight matrix and the bias vector for the hidden layer of the network. Similarly, $W_2$ and $b_2$ are the weights and biases for the output layer.  Note that, in computing the loss value, we should use np.log(y+1e-16) instead of np.log(y) to avoid NaN (Not a Number) error in the case log(0). "
   ]
  },
  {
   "cell_type": "code",
   "execution_count": 5,
   "metadata": {},
   "outputs": [],
   "source": [
    "def forward_prop(data, labels, params):\n",
    "    \"\"\"\n",
    "    return hidder layer, output(softmax) layer and loss\n",
    "        data is of shape: batch_size * dim_x\n",
    "        labels is of shape: batch_size * #class\n",
    "    \"\"\"\n",
    "    W1 = params['W1'] # dim_x * dim_hidden\n",
    "    b1 = params['b1'] # batch_size * dim_hidden\n",
    "    W2 = params['W2'] # dim_hidden * #class\n",
    "    b2 = params['b2'] # batch_size x #class\n",
    "    \n",
    "    z1 = data.dot(W1) + b1\n",
    "    h = sigmoid(z1)\n",
    "    ### YOUR CODE HERE\n",
    "    \n",
    "    z2 = h @ W2 + b2\n",
    "    y = softmax(z2)\n",
    "    ### END YOUR CODE\n",
    "    loss = - np.multiply(labels, np.log(y + 1e-16)).sum()\n",
    "    loss /= data.shape[0]\n",
    "    \n",
    "    return h, y, loss\n",
    "      \n"
   ]
  },
  {
   "cell_type": "markdown",
   "metadata": {},
   "source": [
    "(c) **[10 points]** Please realize the corresponding backward propagation: <em>backward_prop(data, labels, params)</em>.\n",
    "\n",
    "Based on the forward_prop, you can implement the corresponding function for backward propagation. Here are some useful derivation about the link rule that can facilitate your implementation:\n",
    "\n",
    "$\\delta_1 = \\nabla_{z_2} L = \\hat y - y$， where $\\nabla$ refer to the Partial derivative.\n",
    "\n",
    "$\\nabla_{W_2} L = \\delta_1 \\nabla_{W_2} z_2 = h^T \\delta_1$, where $T$ is the transpose operator. \n",
    "\n",
    "$\\nabla_{b_2} L = \\delta_1 \\nabla_{b_2} z_2 = \\delta_1$\n",
    "\n",
    "$\\nabla_{h} L = \\delta_1 \\nabla_{h} z_2 = \\delta_1 W_2^T$\n",
    "\n",
    "$\\delta_2 = \\nabla_{z_1} L = (\\delta_1 W_2^T) \t\\circ h(1-h) $, where $\\circ$ is the element-wise product\n",
    "\n",
    "$\\nabla_{W_1} L = \\delta_2 \\nabla_{W_1} z_1 = x^T \\delta_2$\n",
    "\n",
    "$\\nabla_{b_1} L = \\delta_2 \\nabla_{b_1} z_1 = \\delta_2$\n",
    "\n",
    "Note that, the regularization hyper-parameter lamb for weight decay is ignored in above. "
   ]
  },
  {
   "cell_type": "code",
   "execution_count": 6,
   "metadata": {},
   "outputs": [],
   "source": [
    "def backward_prop(data, labels, params):\n",
    "    \"\"\"\n",
    "    return gradient of parameters\n",
    "    \"\"\"\n",
    "    W1 = params['W1']\n",
    "    b1 = params['b1']\n",
    "    W2 = params['W2']\n",
    "    b2 = params['b2']\n",
    "    \n",
    "    h, y, cost = forward_prop(data, labels, params)\n",
    "    ### YOUR CODE HERE\n",
    "    delta_1 = y - labels\n",
    "    gradW2 = h.T @ delta_1\n",
    "    gradb2 = np.sum(delta_1, axis=0, keepdims=True)\n",
    "    ### END YOUR CODE\n",
    "    delta_2 = np.multiply(np.dot(delta_1, W2.T), h * (1 - h))\n",
    "    gradW1 = np.dot(data.T, delta_2)\n",
    "    gradb1 = np.sum(delta_2, axis=0, keepdims=True)\n",
    "    \n",
    "    lamb = params['lambda']\n",
    "    if lamb > 0:\n",
    "        gradW2 += lamb * W2\n",
    "        gradW1 += lamb * W1\n",
    "    \n",
    "    # The gradients are normalized by batch_size here.\n",
    "    grad = {}\n",
    "    B = data.shape[0]\n",
    "    grad['W1'] = gradW1 / B\n",
    "    grad['W2'] = gradW2 / B\n",
    "    grad['b1'] = gradb1 / B\n",
    "    grad['b2'] = gradb2 / B\n",
    "    return grad"
   ]
  },
  {
   "cell_type": "code",
   "execution_count": 7,
   "metadata": {},
   "outputs": [],
   "source": [
    "def calc_accuracy(y, labels):\n",
    "    \"\"\"\n",
    "    return accuracy of y given (true) labels. \n",
    "    \"\"\"\n",
    "    pred = np.zeros_like(y)\n",
    "    pred[np.arange(y.shape[0]), np.argmax(y, axis=1)] = 1\n",
    "    res = np.abs((pred - labels)).sum(axis=1)\n",
    "    acc = res[res == 0].shape[0] / res.shape[0]\n",
    "    return acc\n",
    "def update_params(params, grad, learning_rate):\n",
    "    params['W1'] -= learning_rate * grad['W1']\n",
    "    params['W2'] -= learning_rate * grad['W2']\n",
    "    params['b1'] -= learning_rate * grad['b1']\n",
    "    params['b2'] -= learning_rate * grad['b2']"
   ]
  },
  {
   "cell_type": "markdown",
   "metadata": {},
   "source": [
    "(d) **[5 points]** Please complete the training procedure: <em>nn_train(trainData, trainLabels, devData, devLabels, **argv)</em>.\n",
    "\n",
    "As a convention, parameters $W_1, W_2$ should be randomly initialized with standard gaussian variables, and parameters $b_1, b_2$ should initialized by 0. You can run nn_train with different values of the hyper-parameter reg_strength to validate the impact of the regularization to the network performance (e.g. reg_strength=0.5). "
   ]
  },
  {
   "cell_type": "code",
   "execution_count": 8,
   "metadata": {},
   "outputs": [
    {
     "name": "stdout",
     "output_type": "stream",
     "text": [
      "0,1,2,3,4,5,6,7,8,9,10,11,12,13,14,15,16,17,18,19,20,21,22,23,24,25,26,27,28,29,30,31,32,33,34,35,36,37,38,39,40,41,42,43,44,"
     ]
    }
   ],
   "source": [
    "def nn_train(trainData, trainLabels, devData, devLabels, \n",
    "             num_hidden=300, learning_rate=3., batch_size=1000, num_epochs=30,\n",
    "             reg_strength=0.5):\n",
    "    (m, n) = trainData.shape\n",
    "    params = {}\n",
    "\n",
    "    N = m\n",
    "    D = n\n",
    "    K = trainLabels.shape[1]\n",
    "    H = num_hidden\n",
    "    B = batch_size\n",
    "    params['W1'] = np.random.standard_normal((n, H))\n",
    "    params['b1'] = np.zeros((1, H), dtype=float)\n",
    "    params['W2'] = np.random.standard_normal((num_hidden, K))\n",
    "    params['b2'] = np.zeros((1, K), dtype=float)\n",
    "    params['lambda'] = reg_strength\n",
    "    num_iter = int(N / B)\n",
    "    tr_loss, tr_metric, dev_loss, dev_metric = [], [], [], []\n",
    "    for i in range(num_epochs):\n",
    "        print(i, end=',')\n",
    "        for j in range(num_iter):\n",
    "            batch_data = trainData[j * B: (j + 1) * B]\n",
    "            batch_labels = trainLabels[j * B: (j + 1) * B]\n",
    "            ### YOUR CODE HERE\n",
    "            grad = backward_prop(batch_data, batch_labels, params)\n",
    "            update_params(params, grad, learning_rate)\n",
    "            ### END YOUR CODE\n",
    "        \n",
    "        _, _y, _cost = forward_prop(trainData, trainLabels, params)\n",
    "        tr_loss.append(_cost)\n",
    "        tr_metric.append(calc_accuracy(_y, trainLabels))\n",
    "        _, _y, _cost = forward_prop(devData, devLabels, params)\n",
    "        dev_loss.append(_cost)\n",
    "        dev_metric.append(calc_accuracy(_y, devLabels))\n",
    "    \n",
    "    return params, tr_loss, tr_metric, dev_loss, dev_metric\n",
    "\n",
    "num_epochs = 45\n",
    "params, tr_loss, tr_metric, dev_loss, dev_metric = nn_train(\n",
    "    trainData, trainLabels, devData, devLabels, num_epochs=num_epochs)"
   ]
  },
  {
   "cell_type": "markdown",
   "metadata": {},
   "source": [
    "(e) **[10 points]** Please provide the accuracy curves and results by running the following codes.\n",
    "\n",
    "After training, we can plot the training and validation loss/accuracy curves to assess the model and the learning procedure. "
   ]
  },
  {
   "cell_type": "code",
   "execution_count": 9,
   "metadata": {
    "scrolled": true
   },
   "outputs": [
    {
     "data": {
      "image/png": "[encoded data removed]",
      "text/plain": [
       "<Figure size 1296x576 with 2 Axes>"
      ]
     },
     "metadata": {
      "needs_background": "light"
     },
     "output_type": "display_data"
    }
   ],
   "source": [
    "xs = np.arange(num_epochs)\n",
    "\n",
    "fig, axes = plt.subplots(1, 2, sharex=True, sharey=False, figsize=(18, 8))\n",
    "ax0, ax1 = axes.ravel()\n",
    "\n",
    "ax0.plot(xs, tr_loss, label='train loss')\n",
    "ax0.plot(xs, dev_loss, label='dev loss')\n",
    "ax0.legend()\n",
    "ax0.set_xlabel('# epoch')\n",
    "ax0.set_ylabel('CE loss')\n",
    "\n",
    "ax1.plot(xs, tr_metric, label='train acc')\n",
    "ax1.plot(xs, dev_metric, label='dev acc')\n",
    "ax1.legend()\n",
    "ax1.set_xlabel('# epoch')\n",
    "ax1.set_ylabel('Accuracy')\n",
    "\n",
    "plt.show()"
   ]
  },
  {
   "cell_type": "markdown",
   "metadata": {},
   "source": [
    "Finally, we should evaluate the model performance on test data."
   ]
  },
  {
   "cell_type": "code",
   "execution_count": 10,
   "metadata": {},
   "outputs": [
    {
     "name": "stdout",
     "output_type": "stream",
     "text": [
      "Test accuracy: 0.9541\n"
     ]
    }
   ],
   "source": [
    "def nn_test(data, labels, params):\n",
    "    h, output, cost = forward_prop(data, labels, params)\n",
    "    accuracy = accuracy = (np.argmax(output,axis=1) == np.argmax(labels,axis=1)).sum() * 1. / labels.shape[0]\n",
    "    return accuracy\n",
    "\n",
    "accuracy = nn_test(testData, testLabels, params)\n",
    "print('Test accuracy: {0}'.format(accuracy))"
   ]
  },
  {
   "cell_type": "markdown",
   "metadata": {},
   "source": [
    "## Part 2: Adversarial Examples for Neural Networks\n",
    "\n",
    "It has been seen that many classifiers, including neural networks, are highly susceptible to what are called adversarial examples -- small perturbations of the input that cause a classifier to misclassify, but are imperceptible to humans. For example, making a small change to an image of a stop sign might cause an object detector in an autonomous vehicle to classify it as an yield sign, which could lead to an accident.\n",
    "\n",
    "In this part, we will see **how to construct adversarial examples for neural networks**, and you are given a 3-hidden layer perceptron trained on the MNIST dataset for this purpose.\n",
    "\n",
    "Since we are interested in constructing the countersample rather than the original classification task, we do not need to worry too much about the design of the neural network and the processing of the data (which are already given). The parameters of the perceptron can be loaded from fc\\*.weight,npy and fc\\*.bias.npy. The test dataset can be loaded from X_test.npy and Y_test.npy. Each image of MNIST is 28×28 pixels in size, and is generally represented as a flat vector of 784 numbers. It also includes labels for each example, a number indicating the actual digit (0 - 9) handwritten in that image. \n",
    "\n",
    "**Enjoy practicing generating adversarial examples and have fun!**\n",
    "\n",
    "\n"
   ]
  },
  {
   "cell_type": "code",
   "execution_count": 11,
   "metadata": {},
   "outputs": [],
   "source": [
    "from __future__ import print_function\n",
    "import numpy as np\n",
    "import matplotlib.pyplot as plt"
   ]
  },
  {
   "cell_type": "markdown",
   "metadata": {},
   "source": [
    "First, we need to define some functions for later computing.\n",
    "\n",
    "(a) **[10 points]** Please realize the following functions: \n",
    "\n",
    "relu: The relu function is calculated as:\n",
    "\n",
    "$$\n",
    "relu(x)=max(0,x)\n",
    "$$\n",
    "\n",
    "relu_grad: The relu_grad is used to compute the gradient of relu function as:\n",
    "\n",
    "$$\n",
    "relu\\_grad(x)=(1(x>0),0(x \\leq 0))\n",
    "$$\n",
    "\n",
    "one_hot: In the implementation of the cross entropy loss, it is much convenient if numerical labels are transformed into one-hot labels. For example, numerical label 6 -> one-hot label [0,0,0,0,0,0,1,0,0,0]. Accordingly, the cross entropy loss can be written as follow:\n",
    "\n",
    "$$\n",
    "cross\\_entropy(y,\\hat y)=-\\sum_{k=1}^K y_k \\log \\hat y_k\n",
    "$$\n",
    "\n",
    "where $\\hat{y}$ is the softmax outputs from the model for the training example, $y$ is the one-hot (ground-truth) label, and the subscript refers to the element of $y$ at the coordinate $k$. \n"
   ]
  },
  {
   "cell_type": "code",
   "execution_count": 12,
   "metadata": {},
   "outputs": [],
   "source": [
    "def relu(x):\n",
    "    '''\n",
    "    Input\n",
    "        x: a vector in ndarray format\n",
    "    Output\n",
    "        relu_x: a vector in ndarray format,\n",
    "        representing the ReLu activation of x.\n",
    "    '''\n",
    "    ### YOUR CODE HERE\n",
    "    relu_x = np.where(x > 0, x, 0.)\n",
    "    ### END YOUR CODE\n",
    "    return relu_x\n",
    "\n",
    "def relu_grad(x):\n",
    "    '''\n",
    "    Input\n",
    "        x: a vector in ndarray format\n",
    "    Output\n",
    "        relu_grad_x: a vector in ndarray format,\n",
    "        representing the gradient of ReLu activation.\n",
    "    '''\n",
    "    ### YOUR CODE HERE\n",
    "    relu_grad_x = np.where(x > 0, 1., 0.)\n",
    "    ### END YOUR CODE\n",
    "    return relu_grad_x\n",
    "\n",
    "def cross_entropy(y, y_hat):\n",
    "    '''\n",
    "    Input\n",
    "        y: an int representing the class label\n",
    "        y_hat: a vector in ndarray format showing the predicted\n",
    "           probability of each class.\n",
    "           \n",
    "    Output\n",
    "        the cross entropy loss. \n",
    "    '''\n",
    "    log_likelihood = -np.log(y_hat)\n",
    "    return log_likelihood[y]"
   ]
  },
  {
   "cell_type": "markdown",
   "metadata": {},
   "source": [
    "Next, we define the structure and some utility functions of our multi-layer perceptron.\n",
    "\n",
    "\n",
    "The neural net is a fully-connected multi-layer perceptron with three hidden layers. The hidden layers contains 2048, 512 and 512 hidden nodes respectively. We use ReLU as the activation function at each hidden node. The last intermediate layer’s output is passed through a softmax function, and the loss is measured as the cross-entropy between the resulted probability vector and the true label.\n",
    "\n",
    "\n",
    "    x: the input image vector with dimension 1x784.\n",
    "    y: the true class label of x.\n",
    "    zi: the value of the i-th intermediate layer before activation, with dimension 1x2048, 1x512, 1x512 and 1x10 for i = 1, 2, 3, 4.\n",
    "    hi: the value of the i-th intermediate layer after activation, with dimension 1x2048, 1x512 and 1x512 for i = 1, 2, 3.\n",
    "    p: the predicted class probability vector after the softmax function, with dimension 1x10.\n",
    "    Wi: the weights between the (i - 1)-th and the i-th intermediate layer. For simplicity, we use h0 as an alias to x. Each Wi has dimension li_1 x li, where li is the number of nodes in the i-th layer. For example, W1 ha dimension 784x2048.\n",
    "    bi: the bias between the (i - 1)-th and the i-th intermediate layer. The dimension is 1 x li.\n",
    "\n",
    "(b) **[20 points]** Please realize the forward propogation and the gradient calculation:\n",
    "\n",
    "**[10 points]** The forward propagation rules are as follows.\n",
    "$$\n",
    "z^i = h^{i-1} \\cdot W^i + b^i, i = 1, 2, 3, 4.\n",
    "$$\n",
    "\n",
    "$$\n",
    "z^i = h^{i-1} \\cdot W^i + b^i, i = 1, 2, 3.\n",
    "$$\n",
    "\n",
    "$$\n",
    "p = Softmax(z^4)\n",
    "$$\n",
    "\n",
    "**[10 points]** The gradient calculation rules are as follows.\n",
    "\n",
    "Let L denote the cross entropy loss of an image-label pair (x, y). We are interested in the gradient of L w.r.t. x, and move x in the direction of (the sign of) the gradient to increase L. If L becomes large, the new image x_adv will likely be misclassified.\n",
    "\n",
    "We use chain rule for gradient computation. Again, let h0 be the alias of x. We have:\n",
    "$$\n",
    "\\frac{\\delta L}{\\delta x} =  \\frac{\\delta L}{\\delta z^4} \\frac{\\delta z^4}{\\delta h^3} \\prod_{i=1}^{3} \\{ \\frac{\\delta h^i}{\\delta z^i} \\frac{\\delta z^i}{\\delta h^{i-1}} \\}\n",
    "$$\n",
    "\n",
    "The intermediate terms can be computed as follows.\n",
    "\n",
    "$$\n",
    "\\frac{\\delta L}{z^4} = p - one\\_hot(y)\n",
    "$$\n",
    "\n",
    "$$\n",
    "\\frac{z^i}{h^{i-1}} = (W^i)^T\n",
    "$$\n",
    "\n",
    "$$\n",
    "\\frac{\\delta h^i}{\\delta z^i}=relu\\_grad(z^i)\n",
    "$$\n",
    "\n",
    "(c) **[10 points]** Please generate the adversarial examples based on the gradient.\n",
    "\n",
    "We begin with deriving a simple way of constructing an adversarial example around an input (x, y).\n",
    "Supppose we denote our neural network by a function f: X $\\rightarrow$ {0,...,9}.\n",
    "Suppose we want to find a small perturbation $\\Delta$ of x such that the neural network f assigns a label different from y to x+$\\Delta$. To find such a $\\Delta$, we want to increase the cross-entropy loss of the network f at (x, y); in other words, we want to take a small step $\\Delta$ along which the cross-entropy loss increases, thus causing a misclassification. We can write this as a gradient ascent update, and to ensure that we only take a small step, we can just use the sign of each coordinate of the gradient. The final algorithm is this:\n",
    "\n",
    "$$\n",
    "x_{adv} = x + \\epsilon \\cdot sign (\\nabla L(f(x), y))\n",
    "$$\n",
    "\n",
    "where L is the cross-entropy loss, and it is known as the **Fast Gradient Sign Method (FGSM)**.\n",
    "\n"
   ]
  },
  {
   "cell_type": "code",
   "execution_count": 13,
   "metadata": {},
   "outputs": [],
   "source": [
    "class MultiLayerPerceptron():\n",
    "    '''\n",
    "    This class defines the multi-layer perceptron we will be using\n",
    "    as the attack target.\n",
    "    \n",
    "    '''\n",
    "    def __init__(self):\n",
    "        self.eps = 0.1\n",
    "    \n",
    "    def load_params(self, params):\n",
    "        '''\n",
    "        This method loads the weights and biases of a trained model.\n",
    "        '''\n",
    "        self.W1 = params[\"fc1.weight\"]\n",
    "        self.b1 = params[\"fc1.bias\"]\n",
    "        self.W2 = params[\"fc2.weight\"]\n",
    "        self.b2 = params[\"fc2.bias\"]\n",
    "        self.W3 = params[\"fc3.weight\"]\n",
    "        self.b3 = params[\"fc3.bias\"]\n",
    "        self.W4 = params[\"fc4.weight\"]\n",
    "        self.b4 = params[\"fc4.bias\"]\n",
    "        \n",
    "    def set_attack_budget(self, eps):\n",
    "        '''\n",
    "        This method sets the maximum L_infty norm of the adversarial\n",
    "        perturbation.\n",
    "        '''\n",
    "        self.eps = eps\n",
    "        \n",
    "    def forward(self, x):\n",
    "        '''\n",
    "        This method finds the predicted probability vector of an input\n",
    "        image x.\n",
    "        \n",
    "        Input\n",
    "            x: a single image vector in ndarray format\n",
    "        Ouput\n",
    "            self.p: a vector in ndarray format representing the predicted class\n",
    "            probability of x.\n",
    "            \n",
    "        Intermediate results are stored as class attributes.\n",
    "        You might need them for gradient computation.\n",
    "        '''\n",
    "        # W1, W2, W3, W4 = self.W1, self.W2, self.W3, self.W4\n",
    "        # b1, b2, b3, b4 = self.b1, self.b2, self.b3, self.b4\n",
    "        \n",
    "        self.z1 = np.matmul(x,self.W1) + self.b1\n",
    "        #######################################\n",
    "        ### YOUR CODE HERE\n",
    "        self.h1 = relu(self.z1)\n",
    "        self.z2 = self.h1 @ self.W2 + self.b2\n",
    "\n",
    "        self.h2 = relu(self.z2)\n",
    "        self.z3 = self.h2 @ self.W3 + self.b3\n",
    "\n",
    "        self.h3 = relu(self.z3)\n",
    "        self.z4 = self.h3 @ self.W4 + self.b4\n",
    "        \n",
    "        self.p = softmax(self.z4)\n",
    "        ### END YOUR CODE\n",
    "        #######################################\n",
    "\n",
    "        return self.p\n",
    "        \n",
    "    def predict(self, x):\n",
    "        '''\n",
    "        This method takes a single image vector x and returns the \n",
    "        predicted class label of it.\n",
    "        '''\n",
    "        res = self.forward(x)\n",
    "        return np.argmax(res)\n",
    "\n",
    "\n",
    "    def gradient(self,x,y):\n",
    "        ''' \n",
    "        This method finds the gradient of the cross-entropy loss\n",
    "        of an image-label pair (x,y) w.r.t. to the image x.\n",
    "        \n",
    "        Input\n",
    "            x: the input image vector in ndarray format\n",
    "            y: the true label of x\n",
    "            \n",
    "        Output\n",
    "            grad: a vector in ndarray format representing\n",
    "            the gradient of the cross-entropy loss of (x,y)\n",
    "            w.r.t. the image x.\n",
    "        '''\n",
    "        \n",
    "        #######################################\n",
    "        ### YOUR CODE HERE\n",
    "        self.p = self.forward(x)\n",
    "        assert len(y.shape) == 2 and y.shape[-1] == 10,\\\n",
    "        \"Please use one-hot encoding.\"\n",
    "        partialL2z4 = self.p - y\n",
    "        partialz42h3 = self.W4.T\n",
    "\n",
    "        partialh32z3 = relu_grad(self.z3)\n",
    "        partialz32h2 = self.W3.T\n",
    "\n",
    "        partialh22z2 = relu_grad(self.z2)\n",
    "        partialz22h1 = self.W2.T\n",
    "\n",
    "        partialh12z1 = relu_grad(self.z1)\n",
    "        partialz12h0 = self.W1.T\n",
    "        \n",
    "        grad = (((partialL2z4 @ partialz42h3 * partialh32z3) @ \\\n",
    "        partialz32h2 * partialh22z2) @ \\\n",
    "        partialz22h1 * partialh12z1) @ \\\n",
    "        partialz12h0\n",
    "\n",
    "        ### END YOUR CODE\n",
    "        #######################################\n",
    "        \n",
    "        return grad\n",
    "    \n",
    "    def attack(self,x,y):\n",
    "        '''\n",
    "        This method generates the adversarial example of an\n",
    "        image-label pair (x,y).\n",
    "        \n",
    "        Input\n",
    "            x: an image vector in ndarray format, representing\n",
    "               the image to be corrupted.\n",
    "            y: the true label of the image x.\n",
    "            \n",
    "        Output\n",
    "            x_adv: a vector in ndarray format, representing\n",
    "            the adversarial example created from image x.\n",
    "        '''\n",
    "        \n",
    "        #######################################\n",
    "        ### YOUR CODE HERE\n",
    "        yOneHot = one_hot_labels(np.array([y]))\n",
    "        grad = self.gradient(x, yOneHot)\n",
    "        x_adv = x + self.eps * np.sign(grad)\n",
    "        ### END YOUR CODE\n",
    "        #######################################\n",
    "        \n",
    "        return x_adv\n"
   ]
  },
  {
   "cell_type": "markdown",
   "metadata": {},
   "source": [
    "Now, let's load the test data and the pre-trained model."
   ]
  },
  {
   "cell_type": "code",
   "execution_count": 14,
   "metadata": {},
   "outputs": [],
   "source": [
    "X_test = np.load(\"./X_test.npy\")\n",
    "Y_test = np.load(\"./Y_test.npy\")\n",
    "\n",
    "params = {}\n",
    "param_names = [\"fc1.weight\", \"fc1.bias\",\n",
    "               \"fc2.weight\", \"fc2.bias\",\n",
    "               \"fc3.weight\", \"fc3.bias\",\n",
    "               \"fc4.weight\", \"fc4.bias\"]\n",
    "\n",
    "for name in param_names:\n",
    "    params[name] = np.load(\"./\"+name+'.npy')\n",
    "    \n",
    "clf = MultiLayerPerceptron()\n",
    "clf.load_params(params)"
   ]
  },
  {
   "cell_type": "markdown",
   "metadata": {},
   "source": [
    "Check if the image data are loaded correctly. Let's visualize the first image in the data set."
   ]
  },
  {
   "cell_type": "code",
   "execution_count": 15,
   "metadata": {},
   "outputs": [
    {
     "name": "stdout",
     "output_type": "stream",
     "text": [
      "This is an image of Number 7\n"
     ]
    },
    {
     "data": {
      "text/plain": [
       "<matplotlib.image.AxesImage at 0x211ba0ce550>"
      ]
     },
     "execution_count": 15,
     "metadata": {},
     "output_type": "execute_result"
    },
    {
     "data": {
      "image/png": "[encoded data removed]",
      "text/plain": [
       "<Figure size 432x288 with 1 Axes>"
      ]
     },
     "metadata": {
      "needs_background": "light"
     },
     "output_type": "display_data"
    }
   ],
   "source": [
    "x, y = X_test[0], Y_test[0]\n",
    "print (\"This is an image of Number\", y)\n",
    "pixels = x.reshape((28,28))\n",
    "plt.imshow(pixels,cmap=\"gray\")"
   ]
  },
  {
   "cell_type": "markdown",
   "metadata": {},
   "source": [
    "Check if the model is loaded correctly. The test accuracy may be 97.6%"
   ]
  },
  {
   "cell_type": "code",
   "execution_count": 16,
   "metadata": {
    "scrolled": false
   },
   "outputs": [
    {
     "name": "stdout",
     "output_type": "stream",
     "text": [
      "Test accuracy is 0.976\n"
     ]
    }
   ],
   "source": [
    "nTest = 1000\n",
    "Y_pred = np.zeros(nTest)\n",
    "for i in range(nTest):\n",
    "    x, y = X_test[i], Y_test[i]\n",
    "    Y_pred[i] = clf.predict(x)\n",
    "acc = np.sum(Y_pred == Y_test[:nTest])*1.0/nTest\n",
    "print (\"Test accuracy is\", acc)"
   ]
  },
  {
   "cell_type": "markdown",
   "metadata": {},
   "source": [
    "(d) **[5 points]** Please generate an adversarial example and check the image. "
   ]
  },
  {
   "cell_type": "code",
   "execution_count": 17,
   "metadata": {},
   "outputs": [
    {
     "data": {
      "text/plain": [
       "<matplotlib.image.AxesImage at 0x211b9f289d0>"
      ]
     },
     "execution_count": 17,
     "metadata": {},
     "output_type": "execute_result"
    },
    {
     "data": {
      "image/png": "[encoded data removed]",
      "text/plain": [
       "<Figure size 432x288 with 1 Axes>"
      ]
     },
     "metadata": {
      "needs_background": "light"
     },
     "output_type": "display_data"
    }
   ],
   "source": [
    "### Output pixels: the adversarial example. \n",
    "### YOUR CODE HERE\n",
    "x, y = X_test[1], Y_test[1]\n",
    "pixels = clf.attack(np.reshape(x, newshape=[1, -1]), y)\n",
    "pixels = np.reshape(pixels, newshape=[28, 28])\n",
    "### END YOUR CODE\n",
    "plt.imshow(pixels,cmap=\"gray\")"
   ]
  },
  {
   "cell_type": "markdown",
   "metadata": {},
   "source": [
    "(e) **[5 points]** Try the adversarial attack and test the accuracy of using adversarial examples.\n",
    "\n",
    "You can get a test accuracy of using adversarial examples after running this cell."
   ]
  },
  {
   "cell_type": "code",
   "execution_count": 18,
   "metadata": {
    "tags": []
   },
   "outputs": [
    {
     "name": "stdout",
     "output_type": "stream",
     "text": [
      "Test accuracy is 0.014\n",
      "Test accuracy of adversarial examples is 0.014\n"
     ]
    }
   ],
   "source": [
    "### Output acc: the adversarial accuracy. \n",
    "### YOUR CODE HERE\n",
    "nTest = 1000\n",
    "Y_pred = np.zeros(nTest)\n",
    "for i in range(nTest):\n",
    "    x, y = X_test[i], Y_test[i]\n",
    "    x = clf.attack(np.reshape(x, newshape=[1, -1]), y)\n",
    "    Y_pred[i] = clf.predict(x)\n",
    "acc = np.sum(Y_pred == Y_test[:nTest])*1.0/nTest\n",
    "print (\"Test accuracy is\", acc)\n",
    "### END YOUR CODE\n",
    "print (\"Test accuracy of adversarial examples is\", acc)\n"
   ]
  }
 ],
 "metadata": {
  "kernelspec": {
   "display_name": "Python 3",
   "language": "python",
   "name": "python3"
  },
  "language_info": {
   "codemirror_mode": {
    "name": "ipython",
    "version": 3
   },
   "file_extension": ".py",
   "mimetype": "text/x-python",
   "name": "python",
   "nbconvert_exporter": "python",
   "pygments_lexer": "ipython3",
   "version": "3.9.7"
  }
 },
 "nbformat": 4,
 "nbformat_minor": 4
}
